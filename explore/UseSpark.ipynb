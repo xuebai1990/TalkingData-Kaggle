{
 "cells": [
  {
   "cell_type": "code",
   "execution_count": 1,
   "metadata": {},
   "outputs": [],
   "source": [
    "from pyspark import SparkContext\n",
    "from pyspark.sql import SQLContext\n",
    "import pandas as pd\n",
    "import numpy as np\n",
    "import matplotlib.pyplot as plt\n",
    "%matplotlib inline"
   ]
  },
  {
   "cell_type": "code",
   "execution_count": 2,
   "metadata": {},
   "outputs": [
    {
     "name": "stdout",
     "output_type": "stream",
     "text": [
      "+------+---+------+---+-------+-------------------+---------------+-------------+\n",
      "|    ip|app|device| os|channel|         click_time|attributed_time|is_attributed|\n",
      "+------+---+------+---+-------+-------------------+---------------+-------------+\n",
      "| 83230|  3|     1| 13|    379|2017-11-06 14:32:21|           null|            0|\n",
      "| 17357|  3|     1| 19|    379|2017-11-06 14:33:34|           null|            0|\n",
      "| 35810|  3|     1| 13|    379|2017-11-06 14:34:12|           null|            0|\n",
      "| 45745| 14|     1| 13|    478|2017-11-06 14:34:52|           null|            0|\n",
      "|161007|  3|     1| 13|    379|2017-11-06 14:35:08|           null|            0|\n",
      "| 18787|  3|     1| 16|    379|2017-11-06 14:36:26|           null|            0|\n",
      "|103022|  3|     1| 23|    379|2017-11-06 14:37:44|           null|            0|\n",
      "|114221|  3|     1| 19|    379|2017-11-06 14:37:59|           null|            0|\n",
      "|165970|  3|     1| 13|    379|2017-11-06 14:38:10|           null|            0|\n",
      "| 74544| 64|     1| 22|    459|2017-11-06 14:38:23|           null|            0|\n",
      "|172522|  3|     1| 25|    379|2017-11-06 14:38:27|           null|            0|\n",
      "|105861|  3|     1| 13|    379|2017-11-06 14:38:51|           null|            0|\n",
      "|210962|  3|     1| 19|    379|2017-11-06 14:39:29|           null|            0|\n",
      "|124979|  3|     1| 18|    379|2017-11-06 14:40:16|           null|            0|\n",
      "| 38816|  3|     1| 18|    379|2017-11-06 14:40:39|           null|            0|\n",
      "| 80447|  3|     1| 19|    379|2017-11-06 14:40:51|           null|            0|\n",
      "|134575|  3|     1| 13|    379|2017-11-06 14:43:10|           null|            0|\n",
      "| 57576|  3|     1| 19|    379|2017-11-06 14:43:14|           null|            0|\n",
      "|  7755|  3|     1| 13|    379|2017-11-06 14:43:25|           null|            0|\n",
      "| 91749|  3|     1| 19|    379|2017-11-06 14:43:51|           null|            0|\n",
      "+------+---+------+---+-------+-------------------+---------------+-------------+\n",
      "only showing top 20 rows\n",
      "\n"
     ]
    }
   ],
   "source": [
    "sc = SparkContext()\n",
    "sql = SQLContext(sc)\n",
    "\n",
    "train = sql.read.format('com.databricks.spark.csv').options(header='true', inferschema='true').load('train.csv')\n",
    "train.show()"
   ]
  },
  {
   "cell_type": "code",
   "execution_count": 4,
   "metadata": {},
   "outputs": [
    {
     "name": "stdout",
     "output_type": "stream",
     "text": [
      "root\n",
      " |-- ip: integer (nullable = true)\n",
      " |-- app: integer (nullable = true)\n",
      " |-- device: integer (nullable = true)\n",
      " |-- os: integer (nullable = true)\n",
      " |-- channel: integer (nullable = true)\n",
      " |-- click_time: timestamp (nullable = true)\n",
      " |-- attributed_time: timestamp (nullable = true)\n",
      " |-- is_attributed: integer (nullable = true)\n",
      "\n"
     ]
    }
   ],
   "source": [
    "train_sample.printSchema()"
   ]
  },
  {
   "cell_type": "code",
   "execution_count": 7,
   "metadata": {},
   "outputs": [
    {
     "name": "stdout",
     "output_type": "stream",
     "text": [
      "+-------------------+\n",
      "|         click_time|\n",
      "+-------------------+\n",
      "|2017-11-07 09:30:38|\n",
      "|2017-11-07 13:40:27|\n",
      "|2017-11-07 18:05:24|\n",
      "|2017-11-07 04:58:08|\n",
      "|2017-11-09 09:00:09|\n",
      "|2017-11-09 01:22:13|\n",
      "|2017-11-09 01:17:58|\n",
      "|2017-11-07 10:01:53|\n",
      "|2017-11-08 09:35:17|\n",
      "|2017-11-08 12:35:26|\n",
      "|2017-11-08 08:14:37|\n",
      "|2017-11-07 05:03:14|\n",
      "|2017-11-09 10:24:23|\n",
      "|2017-11-08 14:46:16|\n",
      "|2017-11-07 00:54:09|\n",
      "|2017-11-08 23:17:45|\n",
      "|2017-11-09 07:33:41|\n",
      "|2017-11-09 03:44:35|\n",
      "|2017-11-06 23:14:08|\n",
      "|2017-11-06 20:07:00|\n",
      "+-------------------+\n",
      "only showing top 20 rows\n",
      "\n"
     ]
    }
   ],
   "source": [
    "train_sample.select('click_time').show()"
   ]
  },
  {
   "cell_type": "code",
   "execution_count": 14,
   "metadata": {},
   "outputs": [
    {
     "data": {
      "text/plain": [
       "DataFrame[ip: int, app: int, device: int, os: int, channel: int, click_time: timestamp, attributed_time: timestamp, is_attributed: int]"
      ]
     },
     "execution_count": 14,
     "metadata": {},
     "output_type": "execute_result"
    }
   ],
   "source": [
    "train_sample.registerTempTable(\"train_sample\")\n",
    "train_sample.cache()"
   ]
  },
  {
   "cell_type": "code",
   "execution_count": 20,
   "metadata": {},
   "outputs": [
    {
     "name": "stdout",
     "output_type": "stream",
     "text": [
      "+---------+\n",
      "|count(ip)|\n",
      "+---------+\n",
      "|      227|\n",
      "+---------+\n",
      "\n"
     ]
    }
   ],
   "source": [
    "sql.sql(\"select count(ip) from train_sample where attributed_time is not null\").show()"
   ]
  },
  {
   "cell_type": "code",
   "execution_count": 21,
   "metadata": {},
   "outputs": [
    {
     "name": "stdout",
     "output_type": "stream",
     "text": [
      "+---------+\n",
      "|count(ip)|\n",
      "+---------+\n",
      "|    99773|\n",
      "+---------+\n",
      "\n"
     ]
    }
   ],
   "source": [
    "sql.sql(\"select count(ip) from train_sample where attributed_time is null\").show()"
   ]
  },
  {
   "cell_type": "code",
   "execution_count": 26,
   "metadata": {},
   "outputs": [
    {
     "name": "stdout",
     "output_type": "stream",
     "text": [
      "+---+----------+\n",
      "|app|count(app)|\n",
      "+---+----------+\n",
      "|148|         2|\n",
      "| 31|         1|\n",
      "| 85|         2|\n",
      "|137|         2|\n",
      "| 65|        18|\n",
      "| 53|         3|\n",
      "|133|         1|\n",
      "| 78|         1|\n",
      "|108|         3|\n",
      "| 34|         3|\n",
      "|101|         4|\n",
      "|115|         1|\n",
      "| 81|         2|\n",
      "| 28|       720|\n",
      "|183|        26|\n",
      "| 76|         6|\n",
      "| 26|      1633|\n",
      "| 27|       696|\n",
      "| 44|        13|\n",
      "|192|         1|\n",
      "+---+----------+\n",
      "only showing top 20 rows\n",
      "\n"
     ]
    }
   ],
   "source": [
    "sql.sql(\"select app, count(app) from train_sample group by app\").show()"
   ]
  },
  {
   "cell_type": "code",
   "execution_count": null,
   "metadata": {},
   "outputs": [],
   "source": []
  },
  {
   "cell_type": "code",
   "execution_count": null,
   "metadata": {
    "collapsed": true
   },
   "outputs": [],
   "source": []
  }
 ],
 "metadata": {
  "kernelspec": {
   "display_name": "Python 3",
   "language": "python",
   "name": "python3"
  },
  "language_info": {
   "codemirror_mode": {
    "name": "ipython",
    "version": 3
   },
   "file_extension": ".py",
   "mimetype": "text/x-python",
   "name": "python",
   "nbconvert_exporter": "python",
   "pygments_lexer": "ipython3",
   "version": "3.6.4"
  }
 },
 "nbformat": 4,
 "nbformat_minor": 2
}
